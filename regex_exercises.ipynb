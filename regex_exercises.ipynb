{
 "cells": [
  {
   "cell_type": "code",
   "execution_count": 1,
   "id": "fe04c16c-cc9c-45aa-b118-eb4363a1c31a",
   "metadata": {},
   "outputs": [],
   "source": [
    "import pandas as pd\n",
    "import re # part of the python stdlib"
   ]
  },
  {
   "cell_type": "markdown",
   "id": "27101be6-d4c4-4c2d-a4ab-f6529f373f54",
   "metadata": {},
   "source": [
    "### Regex Exercises\n",
    "\n",
    "1. Write a function named is_vowel. It should accept a string as input and use a regular expression to determine if the passed string is a vowel. While not explicity mentioned in the lesson, you can treat the result of re.search as a boolean value that indicates whether or not the regular expression matches the given string."
   ]
  },
  {
   "cell_type": "code",
   "execution_count": 6,
   "id": "a8cc861e-8da4-4b65-a211-b3fdad8d5b42",
   "metadata": {},
   "outputs": [],
   "source": [
    "def is_vowel(str):\n",
    "    \"\"\"\"This function accepts a string as input and use a regular expression to\n",
    "    determine if the passed string is a vowel\"\"\"\n",
    "    rex= r'[aeiouAEIOU]$'\n",
    "\n",
    "    find= re.findall(rex, str)\n",
    "    if find:\n",
    "        return True\n",
    "    else:\n",
    "        return False"
   ]
  },
  {
   "cell_type": "code",
   "execution_count": 7,
   "id": "367d7ec9-fb25-4185-b217-37539371df0e",
   "metadata": {},
   "outputs": [
    {
     "data": {
      "text/plain": [
       "False"
      ]
     },
     "execution_count": 7,
     "metadata": {},
     "output_type": "execute_result"
    }
   ],
   "source": [
    "is_vowel('alp')"
   ]
  },
  {
   "cell_type": "code",
   "execution_count": 8,
   "id": "8f922957-c9ce-4a5b-84c6-482c53aaea7b",
   "metadata": {},
   "outputs": [
    {
     "data": {
      "text/plain": [
       "True"
      ]
     },
     "execution_count": 8,
     "metadata": {},
     "output_type": "execute_result"
    }
   ],
   "source": [
    "is_vowel('A')"
   ]
  },
  {
   "cell_type": "markdown",
   "id": "588b99de-a56e-4476-b81c-4d5fed4a7519",
   "metadata": {},
   "source": [
    "**Exercise 2**\n",
    "\n",
    "Write a function named is_valid_username that accepts a string as input. A valid username starts with a lowercase letter, and only consists of lowercase letters, numbers, or the _ character. It should also be no longer than 32 characters. The function should return either True or False depending on whether the passed string is a valid username."
   ]
  },
  {
   "cell_type": "code",
   "execution_count": 19,
   "id": "f2802d79-2378-419a-9528-af002ed6deb8",
   "metadata": {},
   "outputs": [],
   "source": [
    "def is_valid_username(str):\n",
    "    \"\"\" This function returns a Boolean response based on whether a username is \n",
    "    valid according to these parameters: A valid username starts with a lowercase \n",
    "    letter, and only consists of lowercase letters, numbers, or \n",
    "    the _ character. It should also be no longer than 32 characters. \"\"\"\n",
    "    \n",
    "    rex = r'^[a-z0-9_]*0$'\n",
    "    find = re.findall(rex,s)\n",
    "    if find:\n",
    "        return True\n",
    "    else:\n",
    "        return False"
   ]
  },
  {
   "cell_type": "code",
   "execution_count": 21,
   "id": "ea9abd40-a7bd-40d0-a669-12de2d70adcc",
   "metadata": {},
   "outputs": [
    {
     "data": {
      "text/plain": [
       "(False, False, False)"
      ]
     },
     "execution_count": 21,
     "metadata": {},
     "output_type": "execute_result"
    }
   ],
   "source": [
    "s= ('country roads, take me to 600 Navarro')\n",
    "o= ('o is for the only 1 i see')\n",
    "u='you_are_a_toooy'\n",
    "p= ('good_s0up')\n",
    "is_valid_username(s), is_valid_username(o), is_valid_username(u)"
   ]
  },
  {
   "cell_type": "markdown",
   "id": "dbb2ded2-8a2b-47b3-b04a-def974054c56",
   "metadata": {},
   "source": [
    "**Exercise 3**\n",
    "Write a regular expression to capture phone numbers. "
   ]
  },
  {
   "cell_type": "code",
   "execution_count": null,
   "id": "9aebc235-09bf-4ded-913e-879ec12ef3c3",
   "metadata": {},
   "outputs": [],
   "source": [
    "def get_phone(str):\n",
    "    \"\"\"This function captures phone numbers in a string\"\"\"\n",
    "    rex=r'[0-9]{10}"
   ]
  },
  {
   "cell_type": "code",
   "execution_count": 26,
   "id": "65309db9-1fd5-4a71-9396-563953bd3547",
   "metadata": {},
   "outputs": [
    {
     "data": {
      "text/plain": [
       "['123-456-7111']"
      ]
     },
     "execution_count": 26,
     "metadata": {},
     "output_type": "execute_result"
    }
   ],
   "source": [
    "rex=r'[0-9][0-9][0-9].[0-9][0-9][0-9].[0-9][0-9][0-9][0-9]*'\n",
    "s= '777-9311, 123-456-7111, 4294759270'\n",
    "re.findall(rex,s)"
   ]
  },
  {
   "cell_type": "code",
   "execution_count": null,
   "id": "f97ca11f-f29e-4bf3-b1e7-d45887b485f8",
   "metadata": {},
   "outputs": [],
   "source": []
  }
 ],
 "metadata": {
  "kernelspec": {
   "display_name": "Python 3 (ipykernel)",
   "language": "python",
   "name": "python3"
  },
  "language_info": {
   "codemirror_mode": {
    "name": "ipython",
    "version": 3
   },
   "file_extension": ".py",
   "mimetype": "text/x-python",
   "name": "python",
   "nbconvert_exporter": "python",
   "pygments_lexer": "ipython3",
   "version": "3.9.13"
  }
 },
 "nbformat": 4,
 "nbformat_minor": 5
}
