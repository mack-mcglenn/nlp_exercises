{
 "cells": [
  {
   "cell_type": "markdown",
   "metadata": {},
   "source": [
    "# Regex\n",
    "\n",
    "- What is a regular expression?\n",
    "- When are regular expressions useful?"
   ]
  },
  {
   "cell_type": "code",
   "execution_count": 1,
   "metadata": {},
   "outputs": [],
   "source": [
    "import pandas as pd\n",
    "import re # part of the python stdlib"
   ]
  },
  {
   "cell_type": "code",
   "execution_count": 2,
   "metadata": {},
   "outputs": [],
   "source": [
    "log_file_lines = '''\n",
    "76.185.131.226 - - [11/May/2020:14:25:53 +0000] \"GET / HTTP/1.1\" 200 42 \"-\" \"python-requests/2.23.0\"\n",
    "76.185.131.226 - - [11/May/2020:16:25:46 +0000] \"GET / HTTP/1.1\" 200 42 \"-\" \"python-requests/2.23.0\"\n",
    "76.185.131.226 - - [11/May/2020:16:25:58 +0000] \"GET / HTTP/1.1\" 200 42 \"-\" \"Mozilla/5.0 (Macintosh; Intel Mac OS X 10_12_6) AppleWebKit/537.36 (KHTML, like Gecko) Chrome/81.0.4044.129 Safari/537.36\"\n",
    "76.185.131.226 - - [11/May/2020:16:25:58 +0000] \"GET /favicon.ico HTTP/1.1\" 200 162 \"https://python.zach.lol/\" \"Mozilla/5.0 (Macintosh; Intel Mac OS X 10_12_6) AppleWebKit/537.36 (KHTML, like Gecko) Chrome/81.0.4044.129 Safari/537.36\"\n",
    "104.5.217.57 - - [11/May/2020:16:26:27 +0000] \"GET / HTTP/1.1\" 200 42 \"-\" \"python-requests/2.23.0\"\n",
    "76.185.131.226 - - [11/May/2020:16:26:46 +0000] \"GET /documentation HTTP/1.1\" 200 348 \"-\" \"python-requests/2.23.0\"\n",
    "76.185.131.226 - - [11/May/2020:16:26:54 +0000] \"GET /documentation HTTP/1.1\" 200 348 \"-\" \"python-requests/2.23.0\"\n",
    "104.5.217.57 - - [11/May/2020:16:27:04 +0000] \"GET /documentation HTTP/1.1\" 200 348 \"-\" \"python-requests/2.23.0\"\n",
    "76.185.131.226 - - [11/May/2020:16:27:05 +0000] \"GET /documentation HTTP/1.1\" 200 348 \"-\" \"python-requests/2.23.0\"\n",
    "76.185.131.226 - - [11/May/2020:16:27:10 +0000] \"GET /documentation HTTP/1.1\" 200 348 \"-\" \"python-requests/2.23.0\"\n",
    "'''"
   ]
  },
  {
   "cell_type": "code",
   "execution_count": 3,
   "metadata": {},
   "outputs": [
    {
     "data": {
      "text/html": [
       "<div>\n",
       "<style scoped>\n",
       "    .dataframe tbody tr th:only-of-type {\n",
       "        vertical-align: middle;\n",
       "    }\n",
       "\n",
       "    .dataframe tbody tr th {\n",
       "        vertical-align: top;\n",
       "    }\n",
       "\n",
       "    .dataframe thead th {\n",
       "        text-align: right;\n",
       "    }\n",
       "</style>\n",
       "<table border=\"1\" class=\"dataframe\">\n",
       "  <thead>\n",
       "    <tr style=\"text-align: right;\">\n",
       "      <th></th>\n",
       "      <th>ip</th>\n",
       "      <th>timestamp</th>\n",
       "      <th>method</th>\n",
       "      <th>path</th>\n",
       "      <th>status</th>\n",
       "      <th>bytes_sent</th>\n",
       "      <th>referrer</th>\n",
       "      <th>user_agent</th>\n",
       "    </tr>\n",
       "  </thead>\n",
       "  <tbody>\n",
       "    <tr>\n",
       "      <th>0</th>\n",
       "      <td>76.185.131.226</td>\n",
       "      <td>11/May/2020:14:25:53 +0000</td>\n",
       "      <td>GET</td>\n",
       "      <td>/</td>\n",
       "      <td>200</td>\n",
       "      <td>42</td>\n",
       "      <td>-</td>\n",
       "      <td>python-requests/2.23.0</td>\n",
       "    </tr>\n",
       "    <tr>\n",
       "      <th>1</th>\n",
       "      <td>76.185.131.226</td>\n",
       "      <td>11/May/2020:16:25:46 +0000</td>\n",
       "      <td>GET</td>\n",
       "      <td>/</td>\n",
       "      <td>200</td>\n",
       "      <td>42</td>\n",
       "      <td>-</td>\n",
       "      <td>python-requests/2.23.0</td>\n",
       "    </tr>\n",
       "    <tr>\n",
       "      <th>2</th>\n",
       "      <td>76.185.131.226</td>\n",
       "      <td>11/May/2020:16:25:58 +0000</td>\n",
       "      <td>GET</td>\n",
       "      <td>/</td>\n",
       "      <td>200</td>\n",
       "      <td>42</td>\n",
       "      <td>-</td>\n",
       "      <td>Mozilla/5.0 (Macintosh; Intel Mac OS X 10_12_6...</td>\n",
       "    </tr>\n",
       "    <tr>\n",
       "      <th>3</th>\n",
       "      <td>76.185.131.226</td>\n",
       "      <td>11/May/2020:16:25:58 +0000</td>\n",
       "      <td>GET</td>\n",
       "      <td>/favicon.ico</td>\n",
       "      <td>200</td>\n",
       "      <td>162</td>\n",
       "      <td>https://python.zach.lol/</td>\n",
       "      <td>Mozilla/5.0 (Macintosh; Intel Mac OS X 10_12_6...</td>\n",
       "    </tr>\n",
       "    <tr>\n",
       "      <th>4</th>\n",
       "      <td>104.5.217.57</td>\n",
       "      <td>11/May/2020:16:26:27 +0000</td>\n",
       "      <td>GET</td>\n",
       "      <td>/</td>\n",
       "      <td>200</td>\n",
       "      <td>42</td>\n",
       "      <td>-</td>\n",
       "      <td>python-requests/2.23.0</td>\n",
       "    </tr>\n",
       "    <tr>\n",
       "      <th>5</th>\n",
       "      <td>76.185.131.226</td>\n",
       "      <td>11/May/2020:16:26:46 +0000</td>\n",
       "      <td>GET</td>\n",
       "      <td>/documentation</td>\n",
       "      <td>200</td>\n",
       "      <td>348</td>\n",
       "      <td>-</td>\n",
       "      <td>python-requests/2.23.0</td>\n",
       "    </tr>\n",
       "    <tr>\n",
       "      <th>6</th>\n",
       "      <td>76.185.131.226</td>\n",
       "      <td>11/May/2020:16:26:54 +0000</td>\n",
       "      <td>GET</td>\n",
       "      <td>/documentation</td>\n",
       "      <td>200</td>\n",
       "      <td>348</td>\n",
       "      <td>-</td>\n",
       "      <td>python-requests/2.23.0</td>\n",
       "    </tr>\n",
       "    <tr>\n",
       "      <th>7</th>\n",
       "      <td>104.5.217.57</td>\n",
       "      <td>11/May/2020:16:27:04 +0000</td>\n",
       "      <td>GET</td>\n",
       "      <td>/documentation</td>\n",
       "      <td>200</td>\n",
       "      <td>348</td>\n",
       "      <td>-</td>\n",
       "      <td>python-requests/2.23.0</td>\n",
       "    </tr>\n",
       "    <tr>\n",
       "      <th>8</th>\n",
       "      <td>76.185.131.226</td>\n",
       "      <td>11/May/2020:16:27:05 +0000</td>\n",
       "      <td>GET</td>\n",
       "      <td>/documentation</td>\n",
       "      <td>200</td>\n",
       "      <td>348</td>\n",
       "      <td>-</td>\n",
       "      <td>python-requests/2.23.0</td>\n",
       "    </tr>\n",
       "    <tr>\n",
       "      <th>9</th>\n",
       "      <td>76.185.131.226</td>\n",
       "      <td>11/May/2020:16:27:10 +0000</td>\n",
       "      <td>GET</td>\n",
       "      <td>/documentation</td>\n",
       "      <td>200</td>\n",
       "      <td>348</td>\n",
       "      <td>-</td>\n",
       "      <td>python-requests/2.23.0</td>\n",
       "    </tr>\n",
       "  </tbody>\n",
       "</table>\n",
       "</div>"
      ],
      "text/plain": [
       "               ip                   timestamp method            path status  \\\n",
       "0  76.185.131.226  11/May/2020:14:25:53 +0000    GET               /    200   \n",
       "1  76.185.131.226  11/May/2020:16:25:46 +0000    GET               /    200   \n",
       "2  76.185.131.226  11/May/2020:16:25:58 +0000    GET               /    200   \n",
       "3  76.185.131.226  11/May/2020:16:25:58 +0000    GET    /favicon.ico    200   \n",
       "4    104.5.217.57  11/May/2020:16:26:27 +0000    GET               /    200   \n",
       "5  76.185.131.226  11/May/2020:16:26:46 +0000    GET  /documentation    200   \n",
       "6  76.185.131.226  11/May/2020:16:26:54 +0000    GET  /documentation    200   \n",
       "7    104.5.217.57  11/May/2020:16:27:04 +0000    GET  /documentation    200   \n",
       "8  76.185.131.226  11/May/2020:16:27:05 +0000    GET  /documentation    200   \n",
       "9  76.185.131.226  11/May/2020:16:27:10 +0000    GET  /documentation    200   \n",
       "\n",
       "  bytes_sent                  referrer  \\\n",
       "0         42                         -   \n",
       "1         42                         -   \n",
       "2         42                         -   \n",
       "3        162  https://python.zach.lol/   \n",
       "4         42                         -   \n",
       "5        348                         -   \n",
       "6        348                         -   \n",
       "7        348                         -   \n",
       "8        348                         -   \n",
       "9        348                         -   \n",
       "\n",
       "                                          user_agent  \n",
       "0                             python-requests/2.23.0  \n",
       "1                             python-requests/2.23.0  \n",
       "2  Mozilla/5.0 (Macintosh; Intel Mac OS X 10_12_6...  \n",
       "3  Mozilla/5.0 (Macintosh; Intel Mac OS X 10_12_6...  \n",
       "4                             python-requests/2.23.0  \n",
       "5                             python-requests/2.23.0  \n",
       "6                             python-requests/2.23.0  \n",
       "7                             python-requests/2.23.0  \n",
       "8                             python-requests/2.23.0  \n",
       "9                             python-requests/2.23.0  "
      ]
     },
     "execution_count": 3,
     "metadata": {},
     "output_type": "execute_result"
    }
   ],
   "source": [
    "regex = r'(?P<ip>.*?)\\s.*?\\[(?P<timestamp>.*?)\\]\\s+\"(?P<method>[A-Z]+)\\s(?P<path>.*?)\\sHTTP/1.1\"\\s(?P<status>\\d+)\\s(?P<bytes_sent>\\d+)\\s\"(?P<referrer>.*?)\"\\s\"(?P<user_agent>.*?)\"'\n",
    "regex = re.compile(regex,re.VERBOSE)\n",
    "\n",
    "lines = pd.Series(log_file_lines.strip().split('\\n'))\n",
    "lines.str.extract(regex)"
   ]
  },
  {
   "cell_type": "markdown",
   "metadata": {},
   "source": [
    "- search: shows a single match for a regex\n",
    "- findall: shows *all* the matches for a regex in a subject"
   ]
  },
  {
   "cell_type": "markdown",
   "metadata": {},
   "source": [
    "### Literals"
   ]
  },
  {
   "cell_type": "code",
   "execution_count": 4,
   "metadata": {},
   "outputs": [
    {
     "data": {
      "text/plain": [
       "<re.Match object; span=(1, 2), match='b'>"
      ]
     },
     "execution_count": 4,
     "metadata": {},
     "output_type": "execute_result"
    }
   ],
   "source": [
    "regexp = r'b'\n",
    "subject = 'abc'\n",
    "\n",
    "re.search(regexp, subject)"
   ]
  },
  {
   "cell_type": "markdown",
   "metadata": {},
   "source": [
    "<div style=\"background-color: rgba(0, 100, 200, .1); padding: 1em 3em; border-radius: 5px; border: 1px solid black\">\n",
    "    <div style=\"font-weight: bold; font-size: 1.2em; border-bottom: 1px dashed black; padding-bottom: .5em;\">\n",
    "        Mini Exercise\n",
    "    </div>\n",
    "    <ol>\n",
    "        <li>Change your regular expression to match the literal character \"b\". What do you notice?</li>\n",
    "        <li>Change your regular expression to match the literal string \"ab\". What do you notice?</li>\n",
    "        <li>Change your regular expression to match the literal \"d\". What do you notice?</li>\n",
    "        <li>Use <code>re.findall</code> instead of <code>re.search</code>. How do the results differ?</li>\n",
    "    </ol>\n",
    "</div>"
   ]
  },
  {
   "cell_type": "code",
   "execution_count": 9,
   "metadata": {},
   "outputs": [
    {
     "data": {
      "text/plain": [
       "<re.Match object; span=(1, 2), match='b'>"
      ]
     },
     "execution_count": 9,
     "metadata": {},
     "output_type": "execute_result"
    }
   ],
   "source": [
    "regexp=r'b'\n",
    "subject='abc'\n",
    "\n",
    "re.search(regexp, subject)"
   ]
  },
  {
   "cell_type": "code",
   "execution_count": 10,
   "metadata": {},
   "outputs": [
    {
     "data": {
      "text/plain": [
       "<re.Match object; span=(0, 2), match='ab'>"
      ]
     },
     "execution_count": 10,
     "metadata": {},
     "output_type": "execute_result"
    }
   ],
   "source": [
    "regexp=r'ab'\n",
    "subject='abc'\n",
    "\n",
    "re.search(regexp, subject)"
   ]
  },
  {
   "cell_type": "code",
   "execution_count": 11,
   "metadata": {},
   "outputs": [],
   "source": [
    "regexp=r'd'\n",
    "subject='abc'\n",
    "\n",
    "re.search(regexp, subject)\n",
    "# doesn't return anything because there are no values that match 'd' in my subject"
   ]
  },
  {
   "cell_type": "markdown",
   "metadata": {},
   "source": [
    "### Metacharacters\n",
    "\n",
    "- `.`\n",
    "- `\\w`: any letter or number; `\\W` anything that is *not* a letter or number\n",
    "- `\\s` any type of whitespace\n",
    "- `\\d` any numeral, '\\D' being anything that is not a numeral\n",
    "- Captial variants"
   ]
  },
  {
   "cell_type": "markdown",
   "metadata": {},
   "source": [
    "<div style=\"background-color: rgba(0, 100, 200, .1); padding: 1em 3em; border-radius: 5px; border: 1px solid black\">\n",
    "    <div style=\"font-weight: bold; font-size: 1.2em; border-bottom: 1px dashed black; padding-bottom: .5em;\">\n",
    "        Mini Exercise\n",
    "    </div>\n",
    "    <p>Continue to use the same subject variable from above.</p>\n",
    "    <ol>\n",
    "        <li>Use all of the above metacharacters with <code>re.findall</code>. What do you notice?</li>\n",
    "        <li>What does the regular expression <code>\\w\\w</code> match?</li>\n",
    "        <li>Use only metacharacters to write a regular expression to match \"c 1\".</li>\n",
    "        <li>Use a combination of metacharacters to match 3 digits in a row.</li>\n",
    "    </ol>\n",
    "</div>"
   ]
  },
  {
   "cell_type": "code",
   "execution_count": 14,
   "metadata": {},
   "outputs": [
    {
     "data": {
      "text/plain": [
       "['T',\n",
       " 'o',\n",
       " 's',\n",
       " 'i',\n",
       " 't',\n",
       " 'i',\n",
       " 'n',\n",
       " 's',\n",
       " 'o',\n",
       " 'l',\n",
       " 'e',\n",
       " 'm',\n",
       " 'n',\n",
       " 's',\n",
       " 'i',\n",
       " 'l',\n",
       " 'e',\n",
       " 'n',\n",
       " 'c',\n",
       " 'e',\n",
       " 'i',\n",
       " 'n',\n",
       " 'a',\n",
       " 'd',\n",
       " 'u',\n",
       " 'l',\n",
       " 'l',\n",
       " '7',\n",
       " '7',\n",
       " 'd',\n",
       " 'a',\n",
       " 'r',\n",
       " 'k',\n",
       " 'd',\n",
       " 'o',\n",
       " 'c',\n",
       " 'k']"
      ]
     },
     "execution_count": 14,
     "metadata": {},
     "output_type": "execute_result"
    }
   ],
   "source": [
    "# Mini Exercise 2.1\n",
    "\n",
    "regexp= r'\\w'\n",
    "subject= 'To sit in solemn silence in a dull, 77 dark dock'\n",
    "re.findall(regexp, subject)"
   ]
  },
  {
   "cell_type": "code",
   "execution_count": 15,
   "metadata": {},
   "outputs": [
    {
     "data": {
      "text/plain": [
       "['T',\n",
       " 'o',\n",
       " ' ',\n",
       " 's',\n",
       " 'i',\n",
       " 't',\n",
       " ' ',\n",
       " 'i',\n",
       " 'n',\n",
       " ' ',\n",
       " 's',\n",
       " 'o',\n",
       " 'l',\n",
       " 'e',\n",
       " 'm',\n",
       " 'n',\n",
       " ' ',\n",
       " 's',\n",
       " 'i',\n",
       " 'l',\n",
       " 'e',\n",
       " 'n',\n",
       " 'c',\n",
       " 'e',\n",
       " ' ',\n",
       " 'i',\n",
       " 'n',\n",
       " ' ',\n",
       " 'a',\n",
       " ' ',\n",
       " 'd',\n",
       " 'u',\n",
       " 'l',\n",
       " 'l',\n",
       " ',',\n",
       " ' ',\n",
       " ' ',\n",
       " 'd',\n",
       " 'a',\n",
       " 'r',\n",
       " 'k',\n",
       " ' ',\n",
       " 'd',\n",
       " 'o',\n",
       " 'c',\n",
       " 'k']"
      ]
     },
     "execution_count": 15,
     "metadata": {},
     "output_type": "execute_result"
    }
   ],
   "source": [
    "# Mini Exercise 2.1\n",
    "\n",
    "regexp= r'\\D'\n",
    "subject= 'To sit in solemn silence in a dull, 77 dark dock'\n",
    "re.findall(regexp, subject)"
   ]
  },
  {
   "cell_type": "code",
   "execution_count": 19,
   "metadata": {},
   "outputs": [
    {
     "data": {
      "text/plain": [
       "[' ', ' ']"
      ]
     },
     "execution_count": 19,
     "metadata": {},
     "output_type": "execute_result"
    }
   ],
   "source": [
    "# Mini Exercise 2.1\n",
    "\n",
    "subject= 'january 19th, 1989'\n",
    "regexp = r'\\s'\n",
    "\n",
    "re.findall(regexp, subject)"
   ]
  },
  {
   "cell_type": "code",
   "execution_count": 23,
   "metadata": {},
   "outputs": [
    {
     "data": {
      "text/plain": [
       "['1', '9', '1', '9', '8', '9']"
      ]
     },
     "execution_count": 23,
     "metadata": {},
     "output_type": "execute_result"
    }
   ],
   "source": [
    "# Mini Exercise 2.1\n",
    "\n",
    "subject= 'january 19th, 1989'\n",
    "regexp = r'\\d'\n",
    "\n",
    "re.findall(regexp, subject)"
   ]
  },
  {
   "cell_type": "code",
   "execution_count": 20,
   "metadata": {},
   "outputs": [
    {
     "data": {
      "text/plain": [
       "['ja', 'nu', 'ar', '19', 'th', '19', '89']"
      ]
     },
     "execution_count": 20,
     "metadata": {},
     "output_type": "execute_result"
    }
   ],
   "source": [
    "# Mini Exercise 2.2\n",
    "# What does the regular expression \\w\\w match?\n",
    "\n",
    "subject= 'january 19th, 1989'\n",
    "regexp = r'\\w\\w'\n",
    "\n",
    "re.findall(regexp, subject)"
   ]
  },
  {
   "cell_type": "code",
   "execution_count": 28,
   "metadata": {},
   "outputs": [
    {
     "data": {
      "text/plain": [
       "['c 1', 'y 1', 'e 1', 'y 1']"
      ]
     },
     "execution_count": 28,
     "metadata": {},
     "output_type": "execute_result"
    }
   ],
   "source": [
    "# Mini Exercise 2.3\n",
    "# Use only metacharacters to write a regular expression to match \"c 1\".\n",
    "\n",
    "subject= 'c 1, say 1, me 1, they 1'\n",
    "regexp= r'\\w\\s\\d'\n",
    "\n",
    "re.findall(regexp, subject)"
   ]
  },
  {
   "cell_type": "code",
   "execution_count": 29,
   "metadata": {},
   "outputs": [
    {
     "data": {
      "text/plain": [
       "['665', '123']"
      ]
     },
     "execution_count": 29,
     "metadata": {},
     "output_type": "execute_result"
    }
   ],
   "source": [
    "# Mini Exercise 2.4\n",
    "# Use a combination of metacharacters to match 3 digits in a row.\n",
    "\n",
    "subject= 'blah 665 42 hol123'\n",
    "regexp= r'\\d\\d\\d'\n",
    "\n",
    "re.findall(regexp, subject)"
   ]
  },
  {
   "cell_type": "markdown",
   "metadata": {},
   "source": [
    "### Repeating\n",
    "\n",
    "- `{}`: custom number of repititions\n",
    "    - `{x}`: exactly x repititions\n",
    "    - `{x,}`: x or more\n",
    "    - `{x,y}`: between x and y repititions\n",
    "- `*`: zero or more\n",
    "- `+`: one or more\n",
    "- `?`: optional\n",
    "- `?`: greedy + non-greedy"
   ]
  },
  {
   "cell_type": "code",
   "execution_count": 30,
   "metadata": {},
   "outputs": [
    {
     "data": {
      "text/plain": [
       "['665', '123']"
      ]
     },
     "execution_count": 30,
     "metadata": {},
     "output_type": "execute_result"
    }
   ],
   "source": [
    "subject= 'blah 665 42 hol123'\n",
    "regexp= r'\\d{3}'\n",
    "\n",
    "re.findall(regexp, subject)"
   ]
  },
  {
   "cell_type": "code",
   "execution_count": 36,
   "metadata": {},
   "outputs": [
    {
     "data": {
      "text/plain": [
       "['66', '5', '42', '77', '7', '12', '3']"
      ]
     },
     "execution_count": 36,
     "metadata": {},
     "output_type": "execute_result"
    }
   ],
   "source": [
    "# use a combo of metacharacters to match three digits in a row\n",
    "subject= 'blah 665 42 777  moon hol123'\n",
    "regexp= r'\\d{1,2}'\n",
    "\n",
    "re.findall(regexp, subject)"
   ]
  },
  {
   "cell_type": "code",
   "execution_count": 31,
   "metadata": {},
   "outputs": [
    {
     "data": {
      "text/plain": [
       "['66', '42', '12']"
      ]
     },
     "execution_count": 31,
     "metadata": {},
     "output_type": "execute_result"
    }
   ],
   "source": [
    "subject= 'blah 665 42 hol123'\n",
    "regexp= r'\\d{2}'\n",
    "\n",
    "re.findall(regexp, subject)"
   ]
  },
  {
   "cell_type": "code",
   "execution_count": 32,
   "metadata": {},
   "outputs": [
    {
     "data": {
      "text/plain": [
       "['blah', '665', '42', 'hol123']"
      ]
     },
     "execution_count": 32,
     "metadata": {},
     "output_type": "execute_result"
    }
   ],
   "source": [
    "# one or more instances\n",
    "subject= 'blah 665 42 hol123'\n",
    "regexp= r'\\w+'\n",
    "\n",
    "re.findall(regexp, subject)"
   ]
  },
  {
   "cell_type": "markdown",
   "metadata": {},
   "source": [
    "<div style=\"background-color: rgba(0, 100, 200, .1); padding: 1em 3em; border-radius: 5px; border: 1px solid black\">\n",
    "    <div style=\"font-weight: bold; font-size: 1.2em; border-bottom: 1px dashed black; padding-bottom: .5em;\">\n",
    "        Mini Exercise\n",
    "    </div>\n",
    "    <p>Use the string below as your subject for this exercise.</p>\n",
    "    <pre><code>Codeup, founded in 2014, is located at 600 Navarro St. Suite 350, San Antonio, TX 78230. You can find us online at http://codeup.com and our alumni portal is located at https://alumni.codeup.com.</code></pre>\n",
    "    <ol>\n",
    "        <li>Write a regular expression that matches all the numbers.</li>\n",
    "        <li>Write a regular expression that matches a 5 digit number, but not a number with fewer digits.</li>\n",
    "        <li>Write a regular expression that matches `http://` or `https://`.</li>\n",
    "        <li>Write a regular expression that matches all of the words.</li>\n",
    "    </ol>\n",
    "</div>"
   ]
  },
  {
   "cell_type": "code",
   "execution_count": 40,
   "metadata": {},
   "outputs": [
    {
     "data": {
      "text/plain": [
       "['2', '0', '1', '4', '6', '0', '0', '3', '5', '0', '7', '8', '2', '3', '0']"
      ]
     },
     "execution_count": 40,
     "metadata": {},
     "output_type": "execute_result"
    }
   ],
   "source": [
    "# Mini Exercise 4.1\n",
    "# Write a regular expression that matches all the numbers.\n",
    "\n",
    "regexp = r'\\d'\n",
    "subject = (\n",
    "    'Codeup, founded in 2014, is located at 600 Navarro St. Suite 350, '\n",
    "    'San Antonio, TX 78230. You can find us online at http://codeup.com '\n",
    "    'and our alumni portal is located at https://alumni.codeup.com. '\n",
    "    \"It's a great school!\"\n",
    ")\n",
    "\n",
    "re.findall(regexp, subject)"
   ]
  },
  {
   "cell_type": "code",
   "execution_count": 45,
   "metadata": {},
   "outputs": [
    {
     "data": {
      "text/plain": [
       "['78230']"
      ]
     },
     "execution_count": 45,
     "metadata": {},
     "output_type": "execute_result"
    }
   ],
   "source": [
    "# Mini eXERCISE 4.2\n",
    "# Write a regular expression that matches a 5 digit number, \n",
    "# but not a number with fewer digits.\n",
    "\n",
    "regexp = r'\\d{5}'\n",
    "subject = (\n",
    "    'Codeup, founded in 2014, is located at 600 Navarro St. Suite 350, '\n",
    "    'San Antonio, TX 78230. You can find us online at http://codeup.com '\n",
    "    'and our alumni portal is located at https://alumni.codeup.com. '\n",
    "    \"It's a great school!\"\n",
    ")\n",
    "\n",
    "\n",
    "re.findall(regexp, subject)"
   ]
  },
  {
   "cell_type": "code",
   "execution_count": 58,
   "metadata": {},
   "outputs": [
    {
     "data": {
      "text/plain": [
       "['20.14', '600', '350', '78230.']"
      ]
     },
     "execution_count": 58,
     "metadata": {},
     "output_type": "execute_result"
    }
   ],
   "source": [
    "# What if we were searching for floats?\n",
    "sub=(\n",
    "    'Codeup, founded in 20.14, is located at 600 Navarro St. Suite 350, '\n",
    "    'San Antonio, TX 78230. You can find us online at http://codeup.com '\n",
    "    'and our alumni portal is located at https://alumni.codeup.com. '\n",
    "    \"It's a great school!\"\n",
    ")\n",
    "regexp=r'\\d+\\.?\\d*'\n",
    "\n",
    "re.findall(regexp, sub)"
   ]
  },
  {
   "cell_type": "code",
   "execution_count": 68,
   "metadata": {},
   "outputs": [
    {
     "data": {
      "text/plain": [
       "['http://', 'https://']"
      ]
     },
     "execution_count": 68,
     "metadata": {},
     "output_type": "execute_result"
    }
   ],
   "source": [
    "# Mini Exercise 4.3\n",
    "# Write a regular expression that matches `http://` or `https://`.\n",
    "regexp = r'\\w+://'\n",
    "\n",
    "#other option\n",
    "#regexp = r'https?://', regexp = r'\\w+\\W{3}'\n",
    "\n",
    "subject = (\n",
    "    'Codeup, founded in 2014, is located at 600 Navarro St. Suite 350, '\n",
    "    'San Antonio, TX 78230. You can find us online at http://codeup.com '\n",
    "    'and our alumni portal is located at https://alumni.codeup.com. '\n",
    "    \"It's a great school!\"\n",
    ")\n",
    "\n",
    "re.findall(regexp, subject)"
   ]
  },
  {
   "cell_type": "code",
   "execution_count": null,
   "metadata": {},
   "outputs": [],
   "source": [
    "# Mini Exercise 4.4\n",
    "# Write a regular expression that matches all of the words.\n",
    "\n"
   ]
  },
  {
   "cell_type": "markdown",
   "metadata": {},
   "source": [
    "### Any/None Of\n",
    "\n",
    "We can use brackets [] to denote potential optional characters\n",
    "- between characters can parse the range of characters\n",
    "- ^ can act as a \"not\" inside of brackets"
   ]
  },
  {
   "cell_type": "code",
   "execution_count": 71,
   "metadata": {},
   "outputs": [
    {
     "data": {
      "text/plain": [
       "['o',\n",
       " 'd',\n",
       " 'e',\n",
       " 'u',\n",
       " 'p',\n",
       " 'f',\n",
       " 'o',\n",
       " 'u',\n",
       " 'n',\n",
       " 'd',\n",
       " 'e',\n",
       " 'd',\n",
       " 'i',\n",
       " 'n',\n",
       " 'i',\n",
       " 's',\n",
       " 'l',\n",
       " 'o',\n",
       " 'c',\n",
       " 'a',\n",
       " 't',\n",
       " 'e',\n",
       " 'd',\n",
       " 'a',\n",
       " 't',\n",
       " 'a',\n",
       " 'v',\n",
       " 'a',\n",
       " 'r',\n",
       " 'r',\n",
       " 'o',\n",
       " 't',\n",
       " 'u',\n",
       " 'i',\n",
       " 't',\n",
       " 'e',\n",
       " 'a',\n",
       " 'n',\n",
       " 'n',\n",
       " 't',\n",
       " 'o',\n",
       " 'n',\n",
       " 'i',\n",
       " 'o',\n",
       " 'o',\n",
       " 'u',\n",
       " 'c',\n",
       " 'a',\n",
       " 'n',\n",
       " 'f',\n",
       " 'i',\n",
       " 'n',\n",
       " 'd',\n",
       " 'u',\n",
       " 's',\n",
       " 'o',\n",
       " 'n',\n",
       " 'l',\n",
       " 'i',\n",
       " 'n',\n",
       " 'e',\n",
       " 'a',\n",
       " 't',\n",
       " 'h',\n",
       " 't',\n",
       " 't',\n",
       " 'p',\n",
       " 'c',\n",
       " 'o',\n",
       " 'd',\n",
       " 'e',\n",
       " 'u',\n",
       " 'p',\n",
       " 'c',\n",
       " 'o',\n",
       " 'm',\n",
       " 'a',\n",
       " 'n',\n",
       " 'd',\n",
       " 'o',\n",
       " 'u',\n",
       " 'r',\n",
       " 'a',\n",
       " 'l',\n",
       " 'u',\n",
       " 'm',\n",
       " 'n',\n",
       " 'i',\n",
       " 'p',\n",
       " 'o',\n",
       " 'r',\n",
       " 't',\n",
       " 'a',\n",
       " 'l',\n",
       " 'i',\n",
       " 's',\n",
       " 'l',\n",
       " 'o',\n",
       " 'c',\n",
       " 'a',\n",
       " 't',\n",
       " 'e',\n",
       " 'd',\n",
       " 'a',\n",
       " 't',\n",
       " 'h',\n",
       " 't',\n",
       " 't',\n",
       " 'p',\n",
       " 's',\n",
       " 'a',\n",
       " 'l',\n",
       " 'u',\n",
       " 'm',\n",
       " 'n',\n",
       " 'i',\n",
       " 'c',\n",
       " 'o',\n",
       " 'd',\n",
       " 'e',\n",
       " 'u',\n",
       " 'p',\n",
       " 'c',\n",
       " 'o',\n",
       " 'm',\n",
       " 't',\n",
       " 's',\n",
       " 'a',\n",
       " 'g',\n",
       " 'r',\n",
       " 'e',\n",
       " 'a',\n",
       " 't',\n",
       " 's',\n",
       " 'c',\n",
       " 'h',\n",
       " 'o',\n",
       " 'o',\n",
       " 'l']"
      ]
     },
     "execution_count": 71,
     "metadata": {},
     "output_type": "execute_result"
    }
   ],
   "source": [
    "regexp= r'[a-z]'\n",
    "subject = (\n",
    "    'Codeup, founded in 2014, is located at 600 Navarro St. Suite 350, '\n",
    "    'San Antonio, TX 78230. You can find us online at http://codeup.com '\n",
    "    'and our alumni portal is located at https://alumni.codeup.com. '\n",
    "    \"It's a great school!\"\n",
    ")\n",
    "re.findall(regexp, subject)\n",
    "# Capital letters are missing because I only specified lowercase letters in my regexp"
   ]
  },
  {
   "cell_type": "code",
   "execution_count": 72,
   "metadata": {},
   "outputs": [
    {
     "data": {
      "text/plain": [
       "['C',\n",
       " 'o',\n",
       " 'd',\n",
       " 'e',\n",
       " 'u',\n",
       " 'p',\n",
       " 'f',\n",
       " 'o',\n",
       " 'u',\n",
       " 'n',\n",
       " 'd',\n",
       " 'e',\n",
       " 'd',\n",
       " 'i',\n",
       " 'n',\n",
       " 'i',\n",
       " 's',\n",
       " 'l',\n",
       " 'o',\n",
       " 'c',\n",
       " 'a',\n",
       " 't',\n",
       " 'e',\n",
       " 'd',\n",
       " 'a',\n",
       " 't',\n",
       " 'N',\n",
       " 'a',\n",
       " 'v',\n",
       " 'a',\n",
       " 'r',\n",
       " 'r',\n",
       " 'o',\n",
       " 'S',\n",
       " 't',\n",
       " 'S',\n",
       " 'u',\n",
       " 'i',\n",
       " 't',\n",
       " 'e',\n",
       " 'S',\n",
       " 'a',\n",
       " 'n',\n",
       " 'A',\n",
       " 'n',\n",
       " 't',\n",
       " 'o',\n",
       " 'n',\n",
       " 'i',\n",
       " 'o',\n",
       " 'T',\n",
       " 'X',\n",
       " 'Y',\n",
       " 'o',\n",
       " 'u',\n",
       " 'c',\n",
       " 'a',\n",
       " 'n',\n",
       " 'f',\n",
       " 'i',\n",
       " 'n',\n",
       " 'd',\n",
       " 'u',\n",
       " 's',\n",
       " 'o',\n",
       " 'n',\n",
       " 'l',\n",
       " 'i',\n",
       " 'n',\n",
       " 'e',\n",
       " 'a',\n",
       " 't',\n",
       " 'h',\n",
       " 't',\n",
       " 't',\n",
       " 'p',\n",
       " 'c',\n",
       " 'o',\n",
       " 'd',\n",
       " 'e',\n",
       " 'u',\n",
       " 'p',\n",
       " 'c',\n",
       " 'o',\n",
       " 'm',\n",
       " 'a',\n",
       " 'n',\n",
       " 'd',\n",
       " 'o',\n",
       " 'u',\n",
       " 'r',\n",
       " 'a',\n",
       " 'l',\n",
       " 'u',\n",
       " 'm',\n",
       " 'n',\n",
       " 'i',\n",
       " 'p',\n",
       " 'o',\n",
       " 'r',\n",
       " 't',\n",
       " 'a',\n",
       " 'l',\n",
       " 'i',\n",
       " 's',\n",
       " 'l',\n",
       " 'o',\n",
       " 'c',\n",
       " 'a',\n",
       " 't',\n",
       " 'e',\n",
       " 'd',\n",
       " 'a',\n",
       " 't',\n",
       " 'h',\n",
       " 't',\n",
       " 't',\n",
       " 'p',\n",
       " 's',\n",
       " 'a',\n",
       " 'l',\n",
       " 'u',\n",
       " 'm',\n",
       " 'n',\n",
       " 'i',\n",
       " 'c',\n",
       " 'o',\n",
       " 'd',\n",
       " 'e',\n",
       " 'u',\n",
       " 'p',\n",
       " 'c',\n",
       " 'o',\n",
       " 'm',\n",
       " 'I',\n",
       " 't',\n",
       " 's',\n",
       " 'a',\n",
       " 'g',\n",
       " 'r',\n",
       " 'e',\n",
       " 'a',\n",
       " 't',\n",
       " 's',\n",
       " 'c',\n",
       " 'h',\n",
       " 'o',\n",
       " 'o',\n",
       " 'l']"
      ]
     },
     "execution_count": 72,
     "metadata": {},
     "output_type": "execute_result"
    }
   ],
   "source": [
    "# To include capital letters:\n",
    "regexp= r'[a-zA-Z]'\n",
    "subject = (\n",
    "    'Codeup, founded in 2014, is located at 600 Navarro St. Suite 350, '\n",
    "    'San Antonio, TX 78230. You can find us online at http://codeup.com '\n",
    "    'and our alumni portal is located at https://alumni.codeup.com. '\n",
    "    \"It's a great school!\"\n",
    ")\n",
    "re.findall(regexp, subject)"
   ]
  },
  {
   "cell_type": "code",
   "execution_count": 74,
   "metadata": {},
   "outputs": [
    {
     "data": {
      "text/plain": [
       "['C', 'o', 'd']"
      ]
     },
     "execution_count": 74,
     "metadata": {},
     "output_type": "execute_result"
    }
   ],
   "source": [
    "regexp= r'[a-zA-Z]'\n",
    "subject = (\n",
    "    'Codeup, founded in 2014, is located at 600 Navarro St. Suite 350, '\n",
    "    'San Antonio, TX 78230. You can find us online at http://codeup.com '\n",
    "    'and our alumni portal is located at https://alumni.codeup.com. '\n",
    "    \"It's a great school!\"\n",
    ")\n",
    "# Add [:number] to return only up to that number of characters\n",
    "re.findall(regexp, subject)[:3]"
   ]
  },
  {
   "cell_type": "code",
   "execution_count": 75,
   "metadata": {},
   "outputs": [
    {
     "data": {
      "text/plain": [
       "['Codeup', 'founded', 'in']"
      ]
     },
     "execution_count": 75,
     "metadata": {},
     "output_type": "execute_result"
    }
   ],
   "source": [
    "# Add a + at the end of regexp to return full strings\n",
    "regexp= r'[a-zA-Z]+'\n",
    "subject = (\n",
    "    'Codeup, founded in 2014, is located at 600 Navarro St. Suite 350, '\n",
    "    'San Antonio, TX 78230. You can find us online at http://codeup.com '\n",
    "    'and our alumni portal is located at https://alumni.codeup.com. '\n",
    "    \"It's a great school!\"\n",
    ")\n",
    "re.findall(regexp, subject)[:3]"
   ]
  },
  {
   "cell_type": "markdown",
   "metadata": {},
   "source": [
    "<div style=\"background-color: rgba(0, 100, 200, .1); padding: 1em 3em; border-radius: 5px; border: 1px solid black\">\n",
    "    <div style=\"font-weight: bold; font-size: 1.2em; border-bottom: 1px dashed black; padding-bottom: .5em;\">\n",
    "        Mini Exercise\n",
    "    </div>\n",
    "    <p>For this exercise you should make up various subjects and test them with your regular expressions.</p>\n",
    "    <ol>\n",
    "        <li>Write a regular expression that matches even numbers.</li>\n",
    "        <li>Write a regular expression that matches 2 or more odd numbers in a row.</li>\n",
    "        <li>Write a regular expression that any word with a vowel in it.</li>\n",
    "    </ol>\n",
    "</div>"
   ]
  },
  {
   "cell_type": "code",
   "execution_count": 81,
   "metadata": {},
   "outputs": [
    {
     "data": {
      "text/plain": [
       "['500', '02', '600', '500', '02', '000']"
      ]
     },
     "execution_count": 81,
     "metadata": {},
     "output_type": "execute_result"
    }
   ],
   "source": [
    "subject= (\"500,025,600 minutes, 500,025,000 moments so dear \")\n",
    "regexp= r'\\d*[02468]'\n",
    "\n",
    "re.findall(regexp, subject)"
   ]
  },
  {
   "cell_type": "code",
   "execution_count": 84,
   "metadata": {},
   "outputs": [
    {
     "data": {
      "text/plain": [
       "['99', '99']"
      ]
     },
     "execution_count": 84,
     "metadata": {},
     "output_type": "execute_result"
    }
   ],
   "source": [
    "# Mini Exercise 4.2\n",
    "# Write a regular expression that matches 2 or more odd numbers in a row.\n",
    "subject= ('''99 bottles of beer on the wall, 99 bottles of beer,\n",
    "          take one down, pass it around, 98 bottles of beer on the wall''')\n",
    "regexp= r'\\d*[13579]{2,}'\n",
    "\n",
    "re.findall(regexp, subject)"
   ]
  },
  {
   "cell_type": "code",
   "execution_count": 89,
   "metadata": {},
   "outputs": [
    {
     "data": {
      "text/plain": [
       "['63 7']"
      ]
     },
     "execution_count": 89,
     "metadata": {},
     "output_type": "execute_result"
    }
   ],
   "source": [
    "# What if I wanted to do it with two odd numbers separated by a space?\n",
    "subject= ('''123, 63 72ack 7.35''')\n",
    "regexp= r'\\d*[13579][-\\s]+\\d*[13579]'\n",
    "\n",
    "re.findall(regexp, subject)"
   ]
  },
  {
   "cell_type": "code",
   "execution_count": 78,
   "metadata": {},
   "outputs": [
    {
     "data": {
      "text/plain": [
       "['oing', 'eal', 'eclaration']"
      ]
     },
     "execution_count": 78,
     "metadata": {},
     "output_type": "execute_result"
    }
   ],
   "source": [
    "# Write a regular expression that any word with a vowel in it.\n",
    "subject = (\"I'm going to steal the Declaration of Independence\")\n",
    "regexp= r'[a,e,i,o,u]\\w+'\n",
    "\n",
    "re.findall(regexp, subject)[:3]"
   ]
  },
  {
   "cell_type": "markdown",
   "metadata": {},
   "source": [
    "### Anchors\n",
    "\n",
    "- `^`: starts with\n",
    "- `$`: ends with\n",
    "- `\\b`: word boundary"
   ]
  },
  {
   "cell_type": "code",
   "execution_count": null,
   "metadata": {},
   "outputs": [],
   "source": []
  },
  {
   "cell_type": "markdown",
   "metadata": {},
   "source": [
    "<div style=\"background-color: rgba(0, 100, 200, .1); padding: 1em 3em; border-radius: 5px; border: 1px solid black\">\n",
    "    <div style=\"font-weight: bold; font-size: 1.2em; border-bottom: 1px dashed black; padding-bottom: .5em;\">\n",
    "        Mini Exercise\n",
    "    </div>\n",
    "    <p>For this exercise you should make up various subjects and test them with your regular expressions.</p>\n",
    "    <ol>\n",
    "        <li>Write a regular expression that matches if a word starts with a vowel.</li>\n",
    "        <li>Write a regular expression that matches if a word starts with a capital letter.</li>\n",
    "        <li>Write a regular expression that matches if a word ends with a capital letter.</li>        \n",
    "        <li>Write a regular expression that matches if a word starts <b>and</b> ends with a capital letter.</li>\n",
    "    </ol>\n",
    "</div>"
   ]
  },
  {
   "cell_type": "code",
   "execution_count": null,
   "metadata": {},
   "outputs": [],
   "source": []
  },
  {
   "cell_type": "markdown",
   "metadata": {},
   "source": [
    "### Capture Groups"
   ]
  },
  {
   "cell_type": "markdown",
   "metadata": {},
   "source": [
    "## `re.sub`\n",
    "\n",
    "- removing\n",
    "- substitution"
   ]
  },
  {
   "cell_type": "markdown",
   "metadata": {},
   "source": [
    "<div style=\"background-color: rgba(0, 100, 200, .1); padding: 1em 3em; border-radius: 5px; border: 1px solid black\">\n",
    "    <div style=\"font-weight: bold; font-size: 1.2em; border-bottom: 1px dashed black; padding-bottom: .5em;\">\n",
    "        Mini Exercise\n",
    "    </div>\n",
    "    <p>Use the code below to get started on this exercise.</p>\n",
    "    <pre><code>dates = pd.Series(['2020-11-12', '2020-07-13', '2021-01-12'])</code></pre>\n",
    "    <p>Use regular expression substitution to reformat the dates in the format common in the US: m/d/y.</p>\n",
    "</div>"
   ]
  },
  {
   "cell_type": "markdown",
   "metadata": {},
   "source": [
    "## Misc"
   ]
  },
  {
   "cell_type": "markdown",
   "metadata": {},
   "source": [
    "### Pandas Usage\n",
    "\n",
    "- `.str`\n",
    "    - `.extract`\n",
    "    - `.count`\n",
    "    - `.contains`\n",
    "    - `.replace`\n",
    "- extract + concat\n",
    "- named groups"
   ]
  },
  {
   "cell_type": "code",
   "execution_count": null,
   "metadata": {},
   "outputs": [],
   "source": [
    "df = pd.DataFrame()\n",
    "df['text'] = pd.Series([\n",
    "    'You should go check out https://regex101.com, it is a great website!',\n",
    "    'My favorite search engine is https://duckduckgo.com',\n",
    "    'If you have a question, you can get it answered through http://askjeeves.com, it is great!',\n",
    "])\n"
   ]
  },
  {
   "cell_type": "code",
   "execution_count": null,
   "metadata": {},
   "outputs": [],
   "source": []
  },
  {
   "cell_type": "markdown",
   "metadata": {},
   "source": [
    "### Interactive Regex Tool\n",
    "\n",
    "To install the `hlre` tool:\n",
    "\n",
    "```\n",
    "python -m pip install hlre\n",
    "```\n",
    "\n",
    "[For more documentation and the source](https://github.com/zgulde/hlre)\n",
    "\n",
    "See also [regex101](https://regex101.com) (make sure to select the Python flavor)"
   ]
  },
  {
   "cell_type": "markdown",
   "metadata": {},
   "source": [
    "### Named capture groups"
   ]
  },
  {
   "cell_type": "code",
   "execution_count": null,
   "metadata": {},
   "outputs": [],
   "source": [
    "text = 'You should go check out https://regex101.com, it is a great website!'\n",
    "\n",
    "match = re.search(r'(?P<protocol>https?)://(?P<base_domain>\\w+)\\.(?P<tld>\\w+)', text)\n",
    "match.groupdict()"
   ]
  },
  {
   "cell_type": "code",
   "execution_count": null,
   "metadata": {},
   "outputs": [],
   "source": [
    "df.text.str.extract(r'(?P<protocol>https?)://(?P<base_domain>\\w+)\\.(?P<tld>\\w+)')"
   ]
  },
  {
   "cell_type": "markdown",
   "metadata": {},
   "source": [
    "### Verbose regular expressions"
   ]
  },
  {
   "cell_type": "markdown",
   "metadata": {},
   "source": [
    "- `re.VERBOSE`\n",
    "- `(?# this is a comment)`"
   ]
  },
  {
   "cell_type": "code",
   "execution_count": null,
   "metadata": {},
   "outputs": [],
   "source": [
    "text = 'You should go check out https://regex101.com, it is a great website!'\n",
    "\n",
    "regexp = r'''\n",
    "(?P<protocol>https?)\n",
    ":// (?# ignore the :// that seperates protocol from domain)\n",
    "(?P<base_domain>\\w+)\n",
    "\\.\n",
    "(?P<tld>\\w+)\n",
    "'''\n",
    "match = re.search(regexp, text, re.VERBOSE) # whitespace in the regex is ignored\n",
    "match.groupdict()"
   ]
  }
 ],
 "metadata": {
  "kernelspec": {
   "display_name": "Python 3 (ipykernel)",
   "language": "python",
   "name": "python3"
  },
  "language_info": {
   "codemirror_mode": {
    "name": "ipython",
    "version": 3
   },
   "file_extension": ".py",
   "mimetype": "text/x-python",
   "name": "python",
   "nbconvert_exporter": "python",
   "pygments_lexer": "ipython3",
   "version": "3.9.13"
  }
 },
 "nbformat": 4,
 "nbformat_minor": 4
}
